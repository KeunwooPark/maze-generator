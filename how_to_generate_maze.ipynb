{
 "cells": [
  {
   "cell_type": "markdown",
   "metadata": {},
   "source": [
    "# how to generate a random maze\n",
    "\n",
    "This notebook explains an algorithm generating a maze with paths.\n",
    "The irregular paths makes challenging to navigate the maze with a controllable avatar.\n",
    "This kind of mazes are usaful for some research projects studying input and output for remote vehicle control."
   ]
  },
  {
   "cell_type": "markdown",
   "metadata": {},
   "source": [
    "## what kind of maze?\n",
    "\n",
    "These are the requirements of a maze that the algorithm targets.\n",
    "- single path\n",
    "- irregular path widths\n",
    "- the width of the path should be larger than a certain threshold\n",
    "- enterance and exit exists"
   ]
  },
  {
   "cell_type": "markdown",
   "metadata": {},
   "source": [
    "## the big picture\n",
    "\n",
    "The algorithm creates irregular paths with two parts.\n",
    "1. create coarse paths with straight walls.\n",
    "2. make the walls irregular by attaching small blocks to the walls.\n",
    "\n",
    "The algorithm works represents mazes with matrices. `1` means walls and `0` means paths.\n",
    "\n",
    "The followings ar the parameters."
   ]
  },
  {
   "cell_type": "code",
   "execution_count": 1,
   "metadata": {},
   "outputs": [],
   "source": [
    "num_coarse_cells_row = 10\n",
    "num_coarse_cells_col = 10\n",
    "\n",
    "# the percentage of coarse path cells in the maze\n",
    "path_percentage = 0.3\n",
    "\n",
    "# fine cells are the ones that creates rough wall surfaces.\n",
    "\n",
    "# per coarse cell\n",
    "# final matrix size = (num_coarse_cells_row * fine_cells_per_coarse_cell_row, num_coarse_cell_col * fine_cells_per_coarse_cell_col)\n",
    "num_fine_cells_row = 10\n",
    "num_fine_cells_col = 10\n",
    "\n",
    "# relative to fine cell size\n",
    "min_path_width = 2\n",
    "\n",
    "# how many iterations to attach small cells to the maze\n",
    "max_wall_attach_steps = 2000"
   ]
  },
  {
   "cell_type": "markdown",
   "metadata": {},
   "source": [
    "## create coarse path\n",
    "\n",
    "The algorithm starts by creating coarse paths.\n",
    "\n",
    "1. set entrance. entrance is on the edge of the matrix.\n",
    "2. starting from the entrance, randomly choose adjacent cell that is not adjacent to path cell (`0`).\n",
    "3. repeat step 2 until 1) hits the end of the matrix, which becomes the exit or 2) all adjacent cells are adjacent to path cells.\n",
    "4. when the map is created, check the path percentage. If it is less than the threshold, repeat 2-3 again.\n",
    "\n",
    "The reason why we are avoding path-adjacent cells is to not connect the path in the middle of the algorithm. Our goal is to make a single path."
   ]
  },
  {
   "cell_type": "code",
   "execution_count": 2,
   "metadata": {},
   "outputs": [],
   "source": [
    "import numpy as np\n",
    "import random\n",
    "\n",
    "def create_coarse_maze():\n",
    "    coarse_maze = create_random_coarse_maze()\n",
    "    cell_percentage = calculate_path_coverage(coarse_maze)\n",
    "    count = 0\n",
    "    while cell_percentage < path_percentage:\n",
    "        coarse_maze = create_random_coarse_maze()\n",
    "        cell_percentage = calculate_path_coverage(coarse_maze)\n",
    "        count += 1\n",
    "\n",
    "    print(\"Number of coarse maze generation attempts: \", count)\n",
    "\n",
    "    return coarse_maze\n",
    "\n",
    "def calculate_path_coverage(maze: np.ndarray) -> float:\n",
    "    return np.mean(1 - maze)\n",
    "\n",
    "def create_random_coarse_maze():\n",
    "    coarse_maze = np.ones((num_coarse_cells_row, num_coarse_cells_col), dtype=np.uint8)\n",
    "    \n",
    "    # always the left top cell is the start\n",
    "    entry_row = 1\n",
    "    entry_col = 0\n",
    "    coarse_maze[entry_row, entry_col] = 0\n",
    "    cursor = (entry_row, entry_col)\n",
    "    backtracking_stack = [cursor]\n",
    "\n",
    "    # then there is only one possible step\n",
    "    coarse_maze[entry_row, entry_col + 1] = 0\n",
    "    cursor = (entry_row, entry_col + 1)\n",
    "\n",
    "    # the backtrack point is used to avoid re-selecting the backtracked cells.\n",
    "    backtrack_point = (-1, -1)\n",
    "\n",
    "    ### CUROSOR DOES NOT POINT A CELL IN THE BACKTRACKING STACK\n",
    "    while True:\n",
    "        prev_cell = backtracking_stack[-1]\n",
    "        # TODO: prevernt infinite loop\n",
    "        next_cell = select_next_random_cell(\n",
    "            coarse_maze, cursor[0], cursor[1], backtrack_point[0], backtrack_point[1]\n",
    "        )\n",
    "\n",
    "        # reset the backtrack point after using it to prevent infinite loop\n",
    "        backtrack_point = (-1, -1)\n",
    "\n",
    "        if next_cell is not None:\n",
    "            coarse_maze[next_cell[0], next_cell[1]] = 0\n",
    "            backtracking_stack.append(cursor)\n",
    "            cursor = next_cell\n",
    "\n",
    "            if is_on_the_map_boundary(coarse_maze, cursor[0], cursor[1]):\n",
    "                # cursor is on the edge of the map\n",
    "                # this will be the exit point\n",
    "                break\n",
    "        else:\n",
    "            # DFS fail\n",
    "            # backtrack\n",
    "\n",
    "            if len(backtracking_stack) == 0:\n",
    "                raise Exception(\"Failed to create a coarse maze. DFS fail.\")\n",
    "\n",
    "            backtrack_point = (cursor[0], cursor[1])\n",
    "            coarse_maze[cursor[0], cursor[1]] = 1\n",
    "            cursor = backtracking_stack.pop()\n",
    "\n",
    "    return coarse_maze\n",
    "\n",
    "def select_next_random_cell(maze: np.ndarray, current_row: int, current_col: int) -> (int, int):\n",
    "    \"\"\"Select a random cell that is not visited, not adjacent to the visited cells, and not at the boundary \"\"\"\n",
    "    n_maze_row = maze.shape[0]\n",
    "    n_maze_col = maze.shape[1]\n",
    "    \n",
    "    valid_next_cells:list[(int, int)] = []\n",
    "\n",
    "    def is_cell_valid(row: int, col: int) -> bool:\n",
    "        return is_in_the_map(maze, row, col) and is_not_visited(maze, row, col) and is_not_adjacent_to_visited(maze, current_row, current_col, row, col)\n",
    "\n",
    "    # check 4 adjacent cells\n",
    "    if is_cell_valid(current_row - 1, current_col):\n",
    "        valid_next_cells.append((current_row - 1, current_col))\n",
    "\n",
    "    if is_cell_valid(current_row + 1, current_col):\n",
    "        valid_next_cells.append((current_row + 1, current_col))\n",
    "\n",
    "    if is_cell_valid(current_row, current_col + 1):\n",
    "        valid_next_cells.append((current_row, current_col + 1))\n",
    "\n",
    "    if is_cell_valid(current_row, current_col - 1):\n",
    "        valid_next_cells.append((current_row, current_col - 1))\n",
    "\n",
    "    if len(valid_next_cells) == 0:\n",
    "        return None\n",
    "    \n",
    "    return random.choice(valid_next_cells)\n",
    "\n",
    "def is_in_the_map(maze: np.ndarray, row: int, col: int) -> bool:\n",
    "    n_maze_row = maze.shape[0]\n",
    "    n_maze_col = maze.shape[1]\n",
    "    return 0 <= row < n_maze_row and 0 <= col < n_maze_col\n",
    "\n",
    "def is_on_the_map_boundary(maze: np.ndarray, row: int, col: int) -> bool:\n",
    "    n_maze_row = maze.shape[0]\n",
    "    n_maze_col = maze.shape[1]\n",
    "    return 0 == row or row == n_maze_row - 1 or 0 == col or col == n_maze_col - 1\n",
    "\n",
    "def is_not_visited(maze: np.ndarray, row: int, col: int) -> bool:\n",
    "    return maze[row, col] == 1\n",
    "\n",
    "def is_not_adjacent_to_visited(maze: np.ndarray, current_row: int, current_col: int, next_row: int, next_col: int) -> bool:\n",
    "    if not is_in_the_map(maze, next_row, next_col):\n",
    "        return False\n",
    "\n",
    "    adjacent_cells_except_current = []\n",
    "    for cell in [(next_row-1, next_col), (next_row+1, next_col), (next_row, next_col+1), (next_row, next_col-1)]:\n",
    "        if not is_in_the_map(maze, cell[0], cell[1]):\n",
    "            continue\n",
    "\n",
    "        if cell != (current_row, current_col):\n",
    "            adjacent_cells_except_current.append(cell)\n",
    "\n",
    "    for cell in adjacent_cells_except_current:\n",
    "        if (maze[cell[0], cell[1]] == 0):\n",
    "            return False\n",
    "\n",
    "    return True"
   ]
  },
  {
   "cell_type": "code",
   "execution_count": 3,
   "metadata": {},
   "outputs": [
    {
     "name": "stdout",
     "output_type": "stream",
     "text": [
      "Number of coarse maze generation attempts:  12032\n"
     ]
    },
    {
     "data": {
      "text/plain": [
       "<matplotlib.image.AxesImage at 0x10ca5b250>"
      ]
     },
     "execution_count": 3,
     "metadata": {},
     "output_type": "execute_result"
    },
    {
     "data": {
      "image/png": "[encoded data removed]",
      "text/plain": [
       "<Figure size 640x480 with 1 Axes>"
      ]
     },
     "metadata": {},
     "output_type": "display_data"
    }
   ],
   "source": [
    "import numpy as np\n",
    "from matplotlib import pyplot as plt\n",
    "\n",
    "coarse_maze = create_coarse_maze()\n",
    "\n",
    "plt.title(\"coarse map\")\n",
    "plt.imshow(coarse_maze, cmap='gray')\n"
   ]
  },
  {
   "cell_type": "markdown",
   "metadata": {},
   "source": [
    "## create fine cells\n",
    "\n",
    "Make the matrix larger (or finer) so that we can add small blocks to the wall.\n",
    "Do this by doing Kronecker multiplicaiton."
   ]
  },
  {
   "cell_type": "code",
   "execution_count": 28,
   "metadata": {},
   "outputs": [
    {
     "data": {
      "text/plain": [
       "<matplotlib.image.AxesImage at 0x121f84df0>"
      ]
     },
     "execution_count": 28,
     "metadata": {},
     "output_type": "execute_result"
    },
    {
     "data": {
      "image/png": "[encoded data removed]",
      "text/plain": [
       "<Figure size 640x480 with 1 Axes>"
      ]
     },
     "metadata": {},
     "output_type": "display_data"
    }
   ],
   "source": [
    "sub_cell = np.ones((num_fine_cells_row, num_fine_cells_col), dtype=np.uint8)\n",
    "\n",
    "# Kronecker multiplication\n",
    "maze = np.kron(coarse_maze, sub_cell)\n",
    "plt.title(\"maze\")\n",
    "plt.imshow(maze, cmap='gray')"
   ]
  },
  {
   "cell_type": "markdown",
   "metadata": {},
   "source": [
    "## make the walls irregular by adding small blocks\n",
    "\n",
    "It is kind of tricky to add small blocks on the walls because the algorithm should not make the path smaller than the `avatar_size`.\n",
    "Therefore, the algorithm measures distance between the walls after adding a small block. More precisely, the algorithm should measure the distance between the added block and the closest distance to the other wall, which is on the opposite side. And check if the distance is larger than `avatar_size`. If not, then the algorithm revert adding the block.\n",
    "\n",
    "To measure the distance between a point and the other wall, we have to check what are the points on the same wall and what are on the other wall.\n",
    "The algorithm finds *connected components* in the maze. Since there are only a single path, there should be two components in the maze (3 including the path).\n",
    "\n",
    "When finding connected components, using `ndimage.label` is convenient. However, it considers cross-connected cells as *connected*. However, the algorithm up to now can create walls that are connected diagonally. \n",
    "\n",
    "Here is an example."
   ]
  },
  {
   "cell_type": "code",
   "execution_count": 29,
   "metadata": {},
   "outputs": [
    {
     "name": "stdout",
     "output_type": "stream",
     "text": [
      "[[1. 1. 0. 0.]\n",
      " [1. 1. 0. 0.]\n",
      " [0. 0. 1. 1.]\n",
      " [0. 0. 1. 1.]]\n"
     ]
    }
   ],
   "source": [
    "example = np.array([[1, 0], [0, 1]])\n",
    "example = np.kron(example, np.ones((2, 2)))\n",
    "print(example)"
   ]
  },
  {
   "cell_type": "markdown",
   "metadata": {},
   "source": [
    "Therefore, the algorithm should cross-connect the diagonal-connected components."
   ]
  },
  {
   "cell_type": "markdown",
   "metadata": {},
   "source": [
    "### cross-connect the components\n",
    "\n",
    "This is similar to `dilate` in image processing.\n",
    "Run convolution with diagonal kernal and threshold it."
   ]
  },
  {
   "cell_type": "code",
   "execution_count": 30,
   "metadata": {},
   "outputs": [
    {
     "data": {
      "text/plain": [
       "<matplotlib.image.AxesImage at 0x1272d2f80>"
      ]
     },
     "execution_count": 30,
     "metadata": {},
     "output_type": "execute_result"
    },
    {
     "data": {
      "image/png": "[encoded data removed]",
      "text/plain": [
       "<Figure size 640x480 with 1 Axes>"
      ]
     },
     "metadata": {},
     "output_type": "display_data"
    }
   ],
   "source": [
    "from scipy import ndimage\n",
    "\n",
    "kernal = np.array([[1, 0, 1], [0, 1, 0], [1, 0, 1]])\n",
    "cross_connected_maze = ndimage.convolve(maze, kernal, mode='constant', cval=0)\n",
    "cross_connected_maze[cross_connected_maze > 0] = 1\n",
    "\n",
    "plt.title(\"cross-connected maze\")\n",
    "plt.imshow(cross_connected_maze, cmap='gray')\n"
   ]
  },
  {
   "cell_type": "markdown",
   "metadata": {},
   "source": [
    "### label the components"
   ]
  },
  {
   "cell_type": "code",
   "execution_count": 31,
   "metadata": {},
   "outputs": [
    {
     "data": {
      "text/plain": [
       "<matplotlib.image.AxesImage at 0x127388580>"
      ]
     },
     "execution_count": 31,
     "metadata": {},
     "output_type": "execute_result"
    },
    {
     "data": {
      "image/png": "[encoded data removed]",
      "text/plain": [
       "<Figure size 640x480 with 1 Axes>"
      ]
     },
     "metadata": {},
     "output_type": "display_data"
    }
   ],
   "source": [
    "from matplotlib.colors import ListedColormap\n",
    "\n",
    "labeled_maze, num_features = ndimage.label(cross_connected_maze)\n",
    "\n",
    "cmap = ListedColormap(['black', 'blue', 'red'])\n",
    "plt.imshow(labeled_maze, cmap)"
   ]
  },
  {
   "cell_type": "markdown",
   "metadata": {},
   "source": [
    "### split compoenents\n",
    "\n",
    "Split the maze into two. Each maze only has each one wall component cells."
   ]
  },
  {
   "cell_type": "code",
   "execution_count": 32,
   "metadata": {},
   "outputs": [
    {
     "data": {
      "text/plain": [
       "<matplotlib.image.AxesImage at 0x1273c3430>"
      ]
     },
     "execution_count": 32,
     "metadata": {},
     "output_type": "execute_result"
    },
    {
     "data": {
      "image/png": "[encoded data removed]",
      "text/plain": [
       "<Figure size 640x480 with 2 Axes>"
      ]
     },
     "metadata": {},
     "output_type": "display_data"
    }
   ],
   "source": [
    "def split_components(maze:np.ndarray, labeled_maze: np.ndarray) -> (np.ndarray, np.ndarray):\n",
    "    # ensure paths are 0 and the other compoents are >0\n",
    "    binary_maze = maze * (labeled_maze + 1)\n",
    "    labels = np.unique(binary_maze)\n",
    "    label_A = np.median(labels)\n",
    "    label_B = np.max(labels)\n",
    "\n",
    "    maze_A = np.zeros_like(binary_maze)\n",
    "    maze_A[binary_maze == label_A] = 1\n",
    "    maze_B = np.zeros_like(binary_maze)\n",
    "    maze_B[binary_maze == label_B] = 1\n",
    "\n",
    "    return (maze_A, maze_B)\n",
    "\n",
    "maze_A, maze_B = split_components(cross_connected_maze, labeled_maze)\n",
    "\n",
    "fig, axs = plt.subplots(1, 2)\n",
    "axs[0].set_title('maze_A')\n",
    "axs[1].set_title('maze_B')\n",
    "axs[0].imshow(maze_A, cmap='gray')\n",
    "axs[1].imshow(maze_B, cmap='gray')\n"
   ]
  },
  {
   "cell_type": "markdown",
   "metadata": {},
   "source": [
    "## iteration: select boundary points and measure distances\n",
    "\n",
    "This is the step where actually attaches cells to the wall.\n",
    "\n",
    "1. randomly select the wall\n",
    "2. randomly select a point on the wall\n",
    "3. fill point as the wall, if the minimum distance between the point and the other wall is larger then `avatar_size`.\n",
    "4. repeat `max_wall_attach_steps` steps."
   ]
  },
  {
   "cell_type": "markdown",
   "metadata": {},
   "source": [
    "### select boundary points on the walls"
   ]
  },
  {
   "cell_type": "code",
   "execution_count": 33,
   "metadata": {},
   "outputs": [
    {
     "data": {
      "text/plain": [
       "Text(0.5, 1.0, 'Boundary points of maze A')"
      ]
     },
     "execution_count": 33,
     "metadata": {},
     "output_type": "execute_result"
    },
    {
     "data": {
      "image/png": "[encoded data removed]",
      "text/plain": [
       "<Figure size 640x480 with 1 Axes>"
      ]
     },
     "metadata": {},
     "output_type": "display_data"
    }
   ],
   "source": [
    "def select_random_boundary_points(maze: np.ndarray) -> list[(int, int)]:\n",
    "    n_maze_row = maze.shape[0]\n",
    "    n_maze_col = maze.shape[1]\n",
    "\n",
    "    cross_kernel = np.array([[0, 1, 0], [1, 1, 1], [0, 1, 0]])\n",
    "    kernel_sum = np.sum(cross_kernel)\n",
    "\n",
    "    conved_maze = ndimage.convolve(maze, cross_kernel, mode='constant', cval=1)\n",
    "\n",
    "    boundary_points = np.argwhere((conved_maze < kernel_sum) & (conved_maze > 0))\n",
    "\n",
    "    # exclude the map boundary\n",
    "    boundary_points = filter(lambda x: not is_on_the_map_boundary(maze, x[0], x[1]), boundary_points)\n",
    "    # exclude the walls\n",
    "    boundary_points = filter(lambda x: maze[x[0], x[1]] == 0, boundary_points)\n",
    "    \n",
    "    return list(boundary_points)\n",
    "\n",
    "boundary_points_A = select_random_boundary_points(maze_A)\n",
    "empty_maze = np.zeros_like(maze_A)\n",
    "\n",
    "for point in boundary_points_A:\n",
    "    empty_maze[point[0], point[1]] = 1\n",
    "\n",
    "plt.imshow(empty_maze, cmap='gray')\n",
    "plt.title('Boundary points of maze A')"
   ]
  },
  {
   "cell_type": "code",
   "execution_count": 34,
   "metadata": {},
   "outputs": [
    {
     "data": {
      "text/plain": [
       "<matplotlib.image.AxesImage at 0x1276da5c0>"
      ]
     },
     "execution_count": 34,
     "metadata": {},
     "output_type": "execute_result"
    },
    {
     "data": {
      "image/png": "[encoded data removed]",
      "text/plain": [
       "<Figure size 640x480 with 2 Axes>"
      ]
     },
     "metadata": {},
     "output_type": "display_data"
    }
   ],
   "source": [
    "def select_random_boundary_point(component_maze: np.ndarray) -> (int, int):\n",
    "    boundary_points = select_random_boundary_points(component_maze)\n",
    "    return random.choice(boundary_points)\n",
    "\n",
    "def calculate_min_dist_to_point(maze: np.ndarray, row: int, col: int) -> int:\n",
    "    boundary_points = select_random_boundary_points(maze)\n",
    "    distances = [abs(row - point[0]) + abs(col - point[1]) for point in boundary_points]\n",
    "    return min(distances)\n",
    "\n",
    "\n",
    "def add_random_wall_point(maze_A: np.ndarray, maze_B: np.ndarray, min_path_width: float) -> (np.ndarray, np.ndarray):\n",
    "    maze_to_add_point = random.choice([maze_A, maze_B])\n",
    "    add_point_to_maze_A = maze_to_add_point is maze_A\n",
    "    other_maze = maze_A if maze_to_add_point is maze_B else maze_B\n",
    "    \n",
    "    random_boudary_point = select_random_boundary_point(maze_to_add_point)\n",
    "\n",
    "    min_dist_to_point = calculate_min_dist_to_point(other_maze, random_boudary_point[0], random_boudary_point[1])\n",
    "    \n",
    "    if min_dist_to_point < min_path_width:\n",
    "        return (maze_A, maze_B)\n",
    "\n",
    "    copied_maze_A = maze_A.copy()\n",
    "    copied_maze_B = maze_B.copy()\n",
    "    if add_point_to_maze_A:\n",
    "        copied_maze_A[random_boudary_point[0], random_boudary_point[1]] = 1\n",
    "    else:\n",
    "        copied_maze_B[random_boudary_point[0], random_boudary_point[1]] = 1\n",
    "\n",
    "    return copied_maze_A, copied_maze_B\n",
    "\n",
    "\n",
    "iter_count = 0\n",
    "while iter_count < max_wall_attach_steps:\n",
    "    maze_A, maze_B = add_random_wall_point(maze_A, maze_B, min_path_width=min_path_width)\n",
    "    iter_count += 1\n",
    "\n",
    "new_maze = maze_A + maze_B\n",
    "\n",
    "fig, axs = plt.subplots(1, 2)\n",
    "axs[0].set_title('prev maze')\n",
    "axs[1].set_title('new maze')\n",
    "axs[0].imshow(cross_connected_maze, cmap='gray')\n",
    "axs[1].imshow(new_maze, cmap='gray')\n"
   ]
  }
 ],
 "metadata": {
  "kernelspec": {
   "display_name": "Python 3.10.6 ('maze')",
   "language": "python",
   "name": "python3"
  },
  "language_info": {
   "codemirror_mode": {
    "name": "ipython",
    "version": 3
   },
   "file_extension": ".py",
   "mimetype": "text/x-python",
   "name": "python",
   "nbconvert_exporter": "python",
   "pygments_lexer": "ipython3",
   "version": "3.10.6"
  },
  "orig_nbformat": 4,
  "vscode": {
   "interpreter": {
    "hash": "dc29b02da8eaf4d81bc1b0b263635e516bbdc145d87865245169c339848a977c"
   }
  }
 },
 "nbformat": 4,
 "nbformat_minor": 2
}
