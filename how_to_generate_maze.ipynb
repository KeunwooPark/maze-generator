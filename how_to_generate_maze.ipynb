{
 "cells": [
  {
   "cell_type": "markdown",
   "metadata": {},
   "source": [
    "# how to generate maze\n",
    "\n",
    "This notebook explains how to generate a random maze.\n",
    "A random maze is usaful for some research projects related to input and output for remote vehicle control.\n",
    "\n",
    "The goal of this maze is to generate a random maze that a user can control the difficulty of the it."
   ]
  },
  {
   "cell_type": "markdown",
   "metadata": {},
   "source": [
    "## concept\n",
    "\n",
    "(explain concept here)"
   ]
  },
  {
   "cell_type": "code",
   "execution_count": null,
   "metadata": {},
   "outputs": [],
   "source": []
  }
 ],
 "metadata": {
  "kernelspec": {
   "display_name": "Python 3.10.6 ('maze')",
   "language": "python",
   "name": "python3"
  },
  "language_info": {
   "codemirror_mode": {
    "name": "ipython",
    "version": 3
   },
   "file_extension": ".py",
   "mimetype": "text/x-python",
   "name": "python",
   "nbconvert_exporter": "python",
   "pygments_lexer": "ipython3",
   "version": "3.10.6"
  },
  "orig_nbformat": 4,
  "vscode": {
   "interpreter": {
    "hash": "dc29b02da8eaf4d81bc1b0b263635e516bbdc145d87865245169c339848a977c"
   }
  }
 },
 "nbformat": 4,
 "nbformat_minor": 2
}
