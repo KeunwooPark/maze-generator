{
 "cells": [
  {
   "cell_type": "markdown",
   "metadata": {},
   "source": [
    "# how to generate maze\n",
    "\n",
    "This notebook explains how to generate a random maze.\n",
    "\n",
    "We explain an algorithm to generate a maze with rough boundaries so that it becomes challenging to navigate the maze with a controllable avatar.\n",
    "This kind of random maze is usaful for some research projects related to input and output for remote vehicle control."
   ]
  },
  {
   "cell_type": "markdown",
   "metadata": {},
   "source": [
    "## what kind of maze?\n",
    "\n",
    "This algorithm makes a mazing satstifying the following conditions\n",
    "- single path\n",
    "- enterance and exit exists\n",
    "- the width of the path should be larger than a certain threshold"
   ]
  },
  {
   "cell_type": "markdown",
   "metadata": {},
   "source": [
    "## concept\n",
    "\n",
    "(explain concept here)"
   ]
  },
  {
   "cell_type": "code",
   "execution_count": 80,
   "metadata": {},
   "outputs": [],
   "source": [
    "num_coarse_cells_row = 10\n",
    "num_coarse_cells_col = 10\n",
    "\n",
    "# the percentage of coarse path cells in the maze\n",
    "path_percentage = 0.3\n",
    "\n",
    "# per coarse cell\n",
    "num_fine_cells_row = 10\n",
    "num_fine_cells_col = 10\n",
    "\n",
    "# drone size (min maze path width), relative to fine cell size\n",
    "drone_size = 2\n",
    "max_wall_grow_steps = 500"
   ]
  },
  {
   "cell_type": "code",
   "execution_count": 81,
   "metadata": {},
   "outputs": [],
   "source": [
    "import numpy as np\n",
    "import random\n",
    "\n",
    "def create_coarse_maze():\n",
    "    coarse_maze = create_random_coarse_maze()\n",
    "    cell_percentage = calculate_cell_percentage(coarse_maze)\n",
    "    while cell_percentage < path_percentage:\n",
    "        coarse_maze = create_random_coarse_maze()\n",
    "        cell_percentage = calculate_cell_percentage(coarse_maze)\n",
    "\n",
    "    return coarse_maze\n",
    "\n",
    "def calculate_cell_percentage(maze: np.ndarray) -> float:\n",
    "    return np.mean(1 - maze)\n",
    "\n",
    "def create_random_coarse_maze():\n",
    "    coarse_maze = np.ones((num_coarse_cells_row, num_coarse_cells_col), dtype=np.uint8)\n",
    "\n",
    "    # randomly pick the entry\n",
    "    entry_row = np.random.randint(1, num_coarse_cells_row - 1)\n",
    "    entry_col = 0\n",
    "\n",
    "    coarse_maze[entry_row, entry_col] = 0\n",
    "    cursor = (entry_row, entry_col)\n",
    "\n",
    "    while True:\n",
    "        next_cell = select_next_random_cell(coarse_maze, cursor[0], cursor[1])\n",
    "        if (next_cell):\n",
    "            coarse_maze[next_cell[0], next_cell[1]] = 0\n",
    "            cursor = next_cell\n",
    "            \n",
    "            if is_on_the_map_boundary(coarse_maze, cursor[0], cursor[1]):\n",
    "                # cursor is on the edge of the map\n",
    "                # this will be the exit point\n",
    "                break\n",
    "        else:\n",
    "            break\n",
    "\n",
    "    return coarse_maze\n",
    "\n",
    "def select_next_random_cell(maze: np.ndarray, current_row: int, current_col: int) -> (int, int):\n",
    "    \"\"\"Select a random cell that is not visited, not adjacent to the visited cells, and not at the boundary \"\"\"\n",
    "    n_maze_row = maze.shape[0]\n",
    "    n_maze_col = maze.shape[1]\n",
    "    \n",
    "    valid_next_cells:list[(int, int)] = []\n",
    "\n",
    "    def is_cell_valid(row: int, col: int) -> bool:\n",
    "        return is_in_the_map(maze, row, col) and is_not_visited(maze, row, col) and is_not_adjacent_to_visited(maze, current_row, current_col, row, col)\n",
    "\n",
    "    # check 4 adjacent cells\n",
    "    if is_cell_valid(current_row - 1, current_col):\n",
    "        valid_next_cells.append((current_row - 1, current_col))\n",
    "\n",
    "    if is_cell_valid(current_row + 1, current_col):\n",
    "        valid_next_cells.append((current_row + 1, current_col))\n",
    "\n",
    "    if is_cell_valid(current_row, current_col + 1):\n",
    "        valid_next_cells.append((current_row, current_col + 1))\n",
    "\n",
    "    if is_cell_valid(current_row, current_col - 1):\n",
    "        valid_next_cells.append((current_row, current_col - 1))\n",
    "\n",
    "    if len(valid_next_cells) == 0:\n",
    "        return None\n",
    "    \n",
    "    return random.choice(valid_next_cells)\n",
    "\n",
    "def is_in_the_map(maze: np.ndarray, row: int, col: int) -> bool:\n",
    "    n_maze_row = maze.shape[0]\n",
    "    n_maze_col = maze.shape[1]\n",
    "    return 0 <= row < n_maze_row and 0 <= col < n_maze_col\n",
    "\n",
    "def is_on_the_map_boundary(maze: np.ndarray, row: int, col: int) -> bool:\n",
    "    n_maze_row = maze.shape[0]\n",
    "    n_maze_col = maze.shape[1]\n",
    "    return 0 == row or row == n_maze_row - 1 or 0 == col or col == n_maze_col - 1\n",
    "\n",
    "def is_not_visited(maze: np.ndarray, row: int, col: int) -> bool:\n",
    "    return maze[row, col] == 1\n",
    "\n",
    "def is_not_adjacent_to_visited(maze: np.ndarray, current_row: int, current_col: int, next_row: int, next_col: int) -> bool:\n",
    "    if not is_in_the_map(maze, next_row, next_col):\n",
    "        return False\n",
    "\n",
    "    adjacent_cells_except_current = []\n",
    "    for cell in [(next_row-1, next_col), (next_row+1, next_col), (next_row, next_col+1), (next_row, next_col-1)]:\n",
    "        if not is_in_the_map(maze, cell[0], cell[1]):\n",
    "            continue\n",
    "\n",
    "        if cell != (current_row, current_col):\n",
    "            adjacent_cells_except_current.append(cell)\n",
    "\n",
    "    for cell in adjacent_cells_except_current:\n",
    "        if (maze[cell[0], cell[1]] == 0):\n",
    "            return False\n",
    "\n",
    "    return True"
   ]
  },
  {
   "cell_type": "code",
   "execution_count": 82,
   "metadata": {},
   "outputs": [
    {
     "data": {
      "text/plain": [
       "<matplotlib.image.AxesImage at 0x127e1feb0>"
      ]
     },
     "execution_count": 82,
     "metadata": {},
     "output_type": "execute_result"
    },
    {
     "data": {
      "image/png": "[encoded data removed]",
      "text/plain": [
       "<Figure size 640x480 with 1 Axes>"
      ]
     },
     "metadata": {},
     "output_type": "display_data"
    }
   ],
   "source": [
    "import numpy as np\n",
    "from matplotlib import pyplot as plt\n",
    "\n",
    "coarse_maze = create_coarse_maze()\n",
    "\n",
    "plt.imshow(coarse_maze, cmap='gray')\n"
   ]
  },
  {
   "cell_type": "code",
   "execution_count": 83,
   "metadata": {},
   "outputs": [
    {
     "data": {
      "text/plain": [
       "<matplotlib.image.AxesImage at 0x136a77700>"
      ]
     },
     "execution_count": 83,
     "metadata": {},
     "output_type": "execute_result"
    },
    {
     "data": {
      "image/png": "[encoded data removed]",
      "text/plain": [
       "<Figure size 640x480 with 1 Axes>"
      ]
     },
     "metadata": {},
     "output_type": "display_data"
    }
   ],
   "source": [
    "sub_cell = np.ones((num_fine_cells_row, num_fine_cells_col), dtype=np.uint8)\n",
    "\n",
    "# Kronecker multiplication\n",
    "maze = np.kron(coarse_maze, sub_cell)\n",
    "plt.imshow(maze, cmap='gray')"
   ]
  },
  {
   "cell_type": "markdown",
   "metadata": {},
   "source": [
    "connect diangonally touching blocks"
   ]
  },
  {
   "cell_type": "code",
   "execution_count": 84,
   "metadata": {},
   "outputs": [
    {
     "data": {
      "text/plain": [
       "<matplotlib.image.AxesImage at 0x1371da410>"
      ]
     },
     "execution_count": 84,
     "metadata": {},
     "output_type": "execute_result"
    },
    {
     "data": {
      "image/png": "[encoded data removed]",
      "text/plain": [
       "<Figure size 640x480 with 1 Axes>"
      ]
     },
     "metadata": {},
     "output_type": "display_data"
    }
   ],
   "source": [
    "from scipy import ndimage\n",
    "\n",
    "kernal = np.array([[1, 0, 1], [0, 1, 0], [1, 0, 1]])\n",
    "conved_maze = ndimage.convolve(maze, kernal, mode='constant', cval=0)\n",
    "conved_maze[conved_maze > 0] = 1\n",
    "\n",
    "plt.imshow(conved_maze, cmap='gray')\n"
   ]
  },
  {
   "cell_type": "code",
   "execution_count": 85,
   "metadata": {},
   "outputs": [
    {
     "data": {
      "text/plain": [
       "<matplotlib.image.AxesImage at 0x13730dff0>"
      ]
     },
     "execution_count": 85,
     "metadata": {},
     "output_type": "execute_result"
    },
    {
     "data": {
      "image/png": "[encoded data removed]",
      "text/plain": [
       "<Figure size 640x480 with 1 Axes>"
      ]
     },
     "metadata": {},
     "output_type": "display_data"
    }
   ],
   "source": [
    "from matplotlib.colors import ListedColormap\n",
    "\n",
    "labeled_maze, num_features = ndimage.label(conved_maze)\n",
    "\n",
    "cmap = ListedColormap(['black', 'blue', 'red'])\n",
    "plt.imshow(labeled_maze, cmap)"
   ]
  },
  {
   "cell_type": "markdown",
   "metadata": {},
   "source": [
    "## split compoenents"
   ]
  },
  {
   "cell_type": "code",
   "execution_count": 86,
   "metadata": {},
   "outputs": [
    {
     "data": {
      "text/plain": [
       "<matplotlib.image.AxesImage at 0x1373807f0>"
      ]
     },
     "execution_count": 86,
     "metadata": {},
     "output_type": "execute_result"
    },
    {
     "data": {
      "image/png": "[encoded data removed]",
      "text/plain": [
       "<Figure size 640x480 with 2 Axes>"
      ]
     },
     "metadata": {},
     "output_type": "display_data"
    }
   ],
   "source": [
    "def split_components(maze:np.ndarray, labeled_maze: np.ndarray) -> (np.ndarray, np.ndarray):\n",
    "    # ensure paths are 0 and the other compoents are >0\n",
    "    binary_maze = maze * (labeled_maze + 1)\n",
    "    labels = np.unique(binary_maze)\n",
    "    label_A = np.median(labels)\n",
    "    label_B = np.max(labels)\n",
    "\n",
    "    maze_A = np.zeros_like(binary_maze)\n",
    "    maze_A[binary_maze == label_A] = 1\n",
    "    maze_B = np.zeros_like(binary_maze)\n",
    "    maze_B[binary_maze == label_B] = 1\n",
    "\n",
    "    return (maze_A, maze_B)\n",
    "\n",
    "maze_A, maze_B = split_components(conved_maze, labeled_maze)\n",
    "\n",
    "fig, axs = plt.subplots(1, 2)\n",
    "axs[0].set_title('maze_A')\n",
    "axs[1].set_title('maze_B')\n",
    "axs[0].imshow(maze_A, cmap='gray')\n",
    "axs[1].imshow(maze_B, cmap='gray')\n"
   ]
  },
  {
   "cell_type": "markdown",
   "metadata": {},
   "source": [
    "## iteration: select boundary points and measure distances"
   ]
  },
  {
   "cell_type": "code",
   "execution_count": 87,
   "metadata": {},
   "outputs": [
    {
     "data": {
      "text/plain": [
       "Text(0.5, 1.0, 'Boundary points of maze A')"
      ]
     },
     "execution_count": 87,
     "metadata": {},
     "output_type": "execute_result"
    },
    {
     "data": {
      "image/png": "[encoded data removed]",
      "text/plain": [
       "<Figure size 640x480 with 1 Axes>"
      ]
     },
     "metadata": {},
     "output_type": "display_data"
    }
   ],
   "source": [
    "def select_random_boundary_points(maze: np.ndarray) -> list[(int, int)]:\n",
    "    n_maze_row = maze.shape[0]\n",
    "    n_maze_col = maze.shape[1]\n",
    "\n",
    "    cross_kernel = np.array([[0, 1, 0], [1, 1, 1], [0, 1, 0]])\n",
    "    kernel_sum = np.sum(cross_kernel)\n",
    "\n",
    "    conved_maze = ndimage.convolve(maze, cross_kernel, mode='constant', cval=1)\n",
    "\n",
    "    boundary_points = np.argwhere((conved_maze < kernel_sum) & (conved_maze > 0))\n",
    "\n",
    "    # exclude the map boundary\n",
    "    boundary_points = filter(lambda x: not is_on_the_map_boundary(maze, x[0], x[1]), boundary_points)\n",
    "    # exclude the walls\n",
    "    boundary_points = filter(lambda x: maze[x[0], x[1]] == 0, boundary_points)\n",
    "    \n",
    "    return list(boundary_points)\n",
    "\n",
    "boundary_points_A = select_random_boundary_points(maze_A)\n",
    "empty_maze = np.zeros_like(maze_A)\n",
    "\n",
    "for point in boundary_points_A:\n",
    "    empty_maze[point[0], point[1]] = 1\n",
    "\n",
    "plt.imshow(empty_maze, cmap='gray')\n",
    "plt.title('Boundary points of maze A')"
   ]
  },
  {
   "cell_type": "code",
   "execution_count": 88,
   "metadata": {},
   "outputs": [
    {
     "data": {
      "text/plain": [
       "<matplotlib.image.AxesImage at 0x13742a350>"
      ]
     },
     "execution_count": 88,
     "metadata": {},
     "output_type": "execute_result"
    },
    {
     "data": {
      "image/png": "[encoded data removed]",
      "text/plain": [
       "<Figure size 640x480 with 2 Axes>"
      ]
     },
     "metadata": {},
     "output_type": "display_data"
    }
   ],
   "source": [
    "def select_random_boundary_point(component_maze: np.ndarray) -> (int, int):\n",
    "    boundary_points = select_random_boundary_points(component_maze)\n",
    "    return random.choice(boundary_points)\n",
    "\n",
    "def calculate_min_dist_to_point(maze: np.ndarray, row: int, col: int) -> int:\n",
    "    boundary_points = select_random_boundary_points(maze)\n",
    "    distances = [abs(row - point[0]) + abs(col - point[1]) for point in boundary_points]\n",
    "    return min(distances)\n",
    "\n",
    "\n",
    "def add_random_wall_point(maze_A: np.ndarray, maze_B: np.ndarray, min_path_width: float) -> (np.ndarray, np.ndarray):\n",
    "    maze_to_add_point = random.choice([maze_A, maze_B])\n",
    "    add_point_to_maze_A = maze_to_add_point is maze_A\n",
    "    other_maze = maze_A if maze_to_add_point is maze_B else maze_B\n",
    "    \n",
    "    random_boudary_point = select_random_boundary_point(maze_to_add_point)\n",
    "\n",
    "    min_dist_to_point = calculate_min_dist_to_point(other_maze, random_boudary_point[0], random_boudary_point[1])\n",
    "    \n",
    "    if min_dist_to_point < min_path_width:\n",
    "        return (maze_A, maze_B)\n",
    "\n",
    "    copied_maze_A = maze_A.copy()\n",
    "    copied_maze_B = maze_B.copy()\n",
    "    if add_point_to_maze_A:\n",
    "        copied_maze_A[random_boudary_point[0], random_boudary_point[1]] = 1\n",
    "    else:\n",
    "        copied_maze_B[random_boudary_point[0], random_boudary_point[1]] = 1\n",
    "\n",
    "    return copied_maze_A, copied_maze_B\n",
    "\n",
    "\n",
    "iter_count = 0\n",
    "while iter_count < max_wall_grow_steps:\n",
    "    maze_A, maze_B = add_random_wall_point(maze_A, maze_B, min_path_width=drone_size)\n",
    "    iter_count += 1\n",
    "\n",
    "new_maze = maze_A + maze_B\n",
    "\n",
    "fig, axs = plt.subplots(1, 2)\n",
    "axs[0].set_title('prev maze')\n",
    "axs[1].set_title('new maze')\n",
    "axs[0].imshow(conved_maze, cmap='gray')\n",
    "axs[1].imshow(new_maze, cmap='gray')\n"
   ]
  }
 ],
 "metadata": {
  "kernelspec": {
   "display_name": "Python 3.10.6 ('maze')",
   "language": "python",
   "name": "python3"
  },
  "language_info": {
   "codemirror_mode": {
    "name": "ipython",
    "version": 3
   },
   "file_extension": ".py",
   "mimetype": "text/x-python",
   "name": "python",
   "nbconvert_exporter": "python",
   "pygments_lexer": "ipython3",
   "version": "3.10.6"
  },
  "orig_nbformat": 4,
  "vscode": {
   "interpreter": {
    "hash": "dc29b02da8eaf4d81bc1b0b263635e516bbdc145d87865245169c339848a977c"
   }
  }
 },
 "nbformat": 4,
 "nbformat_minor": 2
}
