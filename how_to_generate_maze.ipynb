{
 "cells": [
  {
   "cell_type": "markdown",
   "metadata": {},
   "source": [
    "# how to generate maze\n",
    "\n",
    "This notebook explains how to generate a random maze.\n",
    "\n",
    "We explain an algorithm to generate a maze with rough boundaries so that it becomes challenging to navigate the maze with a controllable avatar.\n",
    "This kind of random maze is usaful for some research projects related to input and output for remote vehicle control."
   ]
  },
  {
   "cell_type": "markdown",
   "metadata": {},
   "source": [
    "## what kind of maze?\n",
    "\n",
    "This algorithm makes a mazing satstifying the following conditions\n",
    "- single path\n",
    "- enterance and exit exists\n",
    "- the width of the path should be larger than a certain threshold"
   ]
  },
  {
   "cell_type": "markdown",
   "metadata": {},
   "source": [
    "## concept\n",
    "\n",
    "(explain concept here)"
   ]
  },
  {
   "cell_type": "code",
   "execution_count": 9,
   "metadata": {},
   "outputs": [],
   "source": [
    "num_coarse_cells_row = 10\n",
    "num_coarse_cells_col = 10\n",
    "\n",
    "# the percentage of coarse path cells in the maze\n",
    "path_percentage = 0.3\n",
    "\n",
    "# per coarse cell\n",
    "num_fine_cells_row = 10\n",
    "num_fine_cells_col = 10\n"
   ]
  },
  {
   "cell_type": "code",
   "execution_count": 51,
   "metadata": {},
   "outputs": [],
   "source": [
    "import numpy as np\n",
    "import random\n",
    "\n",
    "def create_coarse_maze():\n",
    "    coarse_maze = create_random_coarse_maze()\n",
    "    cell_percentage = calculate_cell_percentage(coarse_maze)\n",
    "    while cell_percentage < path_percentage:\n",
    "        coarse_maze = create_random_coarse_maze()\n",
    "        cell_percentage = calculate_cell_percentage(coarse_maze)\n",
    "\n",
    "    return coarse_maze\n",
    "\n",
    "def calculate_cell_percentage(maze: np.ndarray) -> float:\n",
    "    return np.mean(1 - maze)\n",
    "\n",
    "def create_random_coarse_maze():\n",
    "    coarse_maze = np.ones((num_coarse_cells_row, num_coarse_cells_col), dtype=np.uint8)\n",
    "\n",
    "    # randomly pick the entry\n",
    "    entry_row = np.random.randint(1, num_coarse_cells_row - 1)\n",
    "    entry_col = 0\n",
    "\n",
    "    coarse_maze[entry_row, entry_col] = 0\n",
    "    cursor = (entry_row, entry_col)\n",
    "\n",
    "    while True:\n",
    "        next_cell = select_next_random_cell(coarse_maze, cursor[0], cursor[1])\n",
    "        if (next_cell):\n",
    "            coarse_maze[next_cell[0], next_cell[1]] = 0\n",
    "            cursor = next_cell\n",
    "            \n",
    "            if is_on_the_map_boundary(coarse_maze, cursor[0], cursor[1]):\n",
    "                # cursor is on the edge of the map\n",
    "                # this will be the exit point\n",
    "                break\n",
    "        else:\n",
    "            break\n",
    "\n",
    "    return coarse_maze\n",
    "\n",
    "def select_next_random_cell(maze: np.ndarray, current_row: int, current_col: int) -> (int, int):\n",
    "    \"\"\"Select a random cell that is not visited, not adjacent to the visited cells, and not at the boundary \"\"\"\n",
    "    n_maze_row = maze.shape[0]\n",
    "    n_maze_col = maze.shape[1]\n",
    "    \n",
    "    valid_next_cells:list[(int, int)] = []\n",
    "\n",
    "    def is_cell_valid(row: int, col: int) -> bool:\n",
    "        return is_in_the_map(maze, row, col) and is_not_visited(maze, row, col) and is_not_adjacent_to_visited(maze, current_row, current_col, row, col)\n",
    "\n",
    "    # check 4 adjacent cells\n",
    "    if is_cell_valid(current_row - 1, current_col):\n",
    "        valid_next_cells.append((current_row - 1, current_col))\n",
    "\n",
    "    if is_cell_valid(current_row + 1, current_col):\n",
    "        valid_next_cells.append((current_row + 1, current_col))\n",
    "\n",
    "    if is_cell_valid(current_row, current_col + 1):\n",
    "        valid_next_cells.append((current_row, current_col + 1))\n",
    "\n",
    "    if is_cell_valid(current_row, current_col - 1):\n",
    "        valid_next_cells.append((current_row, current_col - 1))\n",
    "\n",
    "    if len(valid_next_cells) == 0:\n",
    "        return None\n",
    "    \n",
    "    return random.choice(valid_next_cells)\n",
    "\n",
    "def is_in_the_map(maze: np.ndarray, row: int, col: int) -> bool:\n",
    "    n_maze_row = maze.shape[0]\n",
    "    n_maze_col = maze.shape[1]\n",
    "    return 0 <= row < n_maze_row and 0 <= col < n_maze_col\n",
    "\n",
    "def is_on_the_map_boundary(maze: np.ndarray, row: int, col: int) -> bool:\n",
    "    n_maze_row = maze.shape[0]\n",
    "    n_maze_col = maze.shape[1]\n",
    "    return 0 == row or row == n_maze_row - 1 or 0 == col or col == n_maze_col - 1\n",
    "\n",
    "def is_not_visited(maze: np.ndarray, row: int, col: int) -> bool:\n",
    "    return maze[row, col] == 1\n",
    "\n",
    "def is_not_adjacent_to_visited(maze: np.ndarray, current_row: int, current_col: int, next_row: int, next_col: int) -> bool:\n",
    "    if not is_in_the_map(maze, next_row, next_col):\n",
    "        return False\n",
    "\n",
    "    adjacent_cells_except_current = []\n",
    "    for cell in [(next_row-1, next_col), (next_row+1, next_col), (next_row, next_col+1), (next_row, next_col-1)]:\n",
    "        if not is_in_the_map(maze, cell[0], cell[1]):\n",
    "            continue\n",
    "\n",
    "        if cell != (current_row, current_col):\n",
    "            adjacent_cells_except_current.append(cell)\n",
    "\n",
    "    for cell in adjacent_cells_except_current:\n",
    "        if (maze[cell[0], cell[1]] == 0):\n",
    "            return False\n",
    "\n",
    "    return True"
   ]
  },
  {
   "cell_type": "code",
   "execution_count": 54,
   "metadata": {},
   "outputs": [
    {
     "data": {
      "text/plain": [
       "<matplotlib.image.AxesImage at 0x1397c18a0>"
      ]
     },
     "execution_count": 54,
     "metadata": {},
     "output_type": "execute_result"
    },
    {
     "data": {
      "image/png": "[encoded data removed]",
      "text/plain": [
       "<Figure size 640x480 with 1 Axes>"
      ]
     },
     "metadata": {},
     "output_type": "display_data"
    }
   ],
   "source": [
    "import numpy as np\n",
    "from matplotlib import pyplot as plt\n",
    "\n",
    "coarse_maze = create_coarse_maze()\n",
    "\n",
    "plt.imshow(coarse_maze, cmap='gray')\n"
   ]
  },
  {
   "cell_type": "code",
   "execution_count": 47,
   "metadata": {},
   "outputs": [
    {
     "data": {
      "text/plain": [
       "<matplotlib.image.AxesImage at 0x1181085b0>"
      ]
     },
     "execution_count": 47,
     "metadata": {},
     "output_type": "execute_result"
    },
    {
     "data": {
      "image/png": "[encoded data removed]",
      "text/plain": [
       "<Figure size 640x480 with 1 Axes>"
      ]
     },
     "metadata": {},
     "output_type": "display_data"
    }
   ],
   "source": [
    "sub_cell = np.ones((num_fine_cells_row, num_fine_cells_col), dtype=np.uint8)\n",
    "\n",
    "# Kronecker multiplication\n",
    "maze = np.kron(coarse_maze, sub_cell)\n",
    "\n",
    "plt.imshow(maze, cmap='gray')"
   ]
  }
 ],
 "metadata": {
  "kernelspec": {
   "display_name": "Python 3.10.6 ('maze')",
   "language": "python",
   "name": "python3"
  },
  "language_info": {
   "codemirror_mode": {
    "name": "ipython",
    "version": 3
   },
   "file_extension": ".py",
   "mimetype": "text/x-python",
   "name": "python",
   "nbconvert_exporter": "python",
   "pygments_lexer": "ipython3",
   "version": "3.10.6"
  },
  "orig_nbformat": 4,
  "vscode": {
   "interpreter": {
    "hash": "dc29b02da8eaf4d81bc1b0b263635e516bbdc145d87865245169c339848a977c"
   }
  }
 },
 "nbformat": 4,
 "nbformat_minor": 2
}
